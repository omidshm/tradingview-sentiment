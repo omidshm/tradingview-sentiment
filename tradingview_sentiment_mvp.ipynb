{
  "nbformat": 4,
  "nbformat_minor": 0,
  "metadata": {
    "colab": {
      "name": "tradingview_sentiment_mvp.ipynb",
      "provenance": [],
      "collapsed_sections": [],
      "authorship_tag": "ABX9TyOo/Qmao6m0XKSF+tlOfPJr",
      "include_colab_link": true
    },
    "kernelspec": {
      "name": "python3",
      "display_name": "Python 3"
    },
    "language_info": {
      "name": "python"
    }
  },
  "cells": [
    {
      "cell_type": "markdown",
      "metadata": {
        "id": "view-in-github",
        "colab_type": "text"
      },
      "source": [
        "<a href=\"https://colab.research.google.com/github/omidshm/tradingview-sentiment/blob/cooking-jupyter-mvp/tradingview_sentiment_mvp.ipynb\" target=\"_parent\"><img src=\"https://colab.research.google.com/assets/colab-badge.svg\" alt=\"Open In Colab\"/></a>"
      ]
    },
    {
      "cell_type": "code",
      "source": [
        "!pip install requests-HTML"
      ],
      "metadata": {
        "colab": {
          "base_uri": "https://localhost:8080/"
        },
        "id": "GrKh4drzTjQm",
        "outputId": "01321237-ed98-4517-885b-c3730693ca57"
      },
      "execution_count": 4,
      "outputs": [
        {
          "output_type": "stream",
          "name": "stdout",
          "text": [
            "Requirement already satisfied: requests-HTML in /usr/local/lib/python3.7/dist-packages (0.10.0)\n",
            "Requirement already satisfied: w3lib in /usr/local/lib/python3.7/dist-packages (from requests-HTML) (1.22.0)\n",
            "Requirement already satisfied: parse in /usr/local/lib/python3.7/dist-packages (from requests-HTML) (1.19.0)\n",
            "Requirement already satisfied: requests in /usr/local/lib/python3.7/dist-packages (from requests-HTML) (2.23.0)\n",
            "Requirement already satisfied: fake-useragent in /usr/local/lib/python3.7/dist-packages (from requests-HTML) (0.1.11)\n",
            "Requirement already satisfied: pyppeteer>=0.0.14 in /usr/local/lib/python3.7/dist-packages (from requests-HTML) (1.0.2)\n",
            "Requirement already satisfied: pyquery in /usr/local/lib/python3.7/dist-packages (from requests-HTML) (1.4.3)\n",
            "Requirement already satisfied: bs4 in /usr/local/lib/python3.7/dist-packages (from requests-HTML) (0.0.1)\n",
            "Requirement already satisfied: pyee<9.0.0,>=8.1.0 in /usr/local/lib/python3.7/dist-packages (from pyppeteer>=0.0.14->requests-HTML) (8.2.2)\n",
            "Requirement already satisfied: urllib3<2.0.0,>=1.25.8 in /usr/local/lib/python3.7/dist-packages (from pyppeteer>=0.0.14->requests-HTML) (1.25.11)\n",
            "Requirement already satisfied: tqdm<5.0.0,>=4.42.1 in /usr/local/lib/python3.7/dist-packages (from pyppeteer>=0.0.14->requests-HTML) (4.62.3)\n",
            "Requirement already satisfied: websockets<11.0,>=10.0 in /usr/local/lib/python3.7/dist-packages (from pyppeteer>=0.0.14->requests-HTML) (10.1)\n",
            "Requirement already satisfied: certifi>=2021 in /usr/local/lib/python3.7/dist-packages (from pyppeteer>=0.0.14->requests-HTML) (2021.10.8)\n",
            "Requirement already satisfied: importlib-metadata>=1.4 in /usr/local/lib/python3.7/dist-packages (from pyppeteer>=0.0.14->requests-HTML) (4.11.0)\n",
            "Requirement already satisfied: appdirs<2.0.0,>=1.4.3 in /usr/local/lib/python3.7/dist-packages (from pyppeteer>=0.0.14->requests-HTML) (1.4.4)\n",
            "Requirement already satisfied: typing-extensions>=3.6.4 in /usr/local/lib/python3.7/dist-packages (from importlib-metadata>=1.4->pyppeteer>=0.0.14->requests-HTML) (3.10.0.2)\n",
            "Requirement already satisfied: zipp>=0.5 in /usr/local/lib/python3.7/dist-packages (from importlib-metadata>=1.4->pyppeteer>=0.0.14->requests-HTML) (3.7.0)\n",
            "Requirement already satisfied: beautifulsoup4 in /usr/local/lib/python3.7/dist-packages (from bs4->requests-HTML) (4.6.3)\n",
            "Requirement already satisfied: lxml>=2.1 in /usr/local/lib/python3.7/dist-packages (from pyquery->requests-HTML) (4.2.6)\n",
            "Requirement already satisfied: cssselect>0.7.9 in /usr/local/lib/python3.7/dist-packages (from pyquery->requests-HTML) (1.1.0)\n",
            "Requirement already satisfied: idna<3,>=2.5 in /usr/local/lib/python3.7/dist-packages (from requests->requests-HTML) (2.10)\n",
            "Requirement already satisfied: chardet<4,>=3.0.2 in /usr/local/lib/python3.7/dist-packages (from requests->requests-HTML) (3.0.4)\n",
            "Requirement already satisfied: six>=1.4.1 in /usr/local/lib/python3.7/dist-packages (from w3lib->requests-HTML) (1.15.0)\n"
          ]
        }
      ]
    },
    {
      "cell_type": "code",
      "execution_count": 5,
      "metadata": {
        "id": "xF7CMLfkQyNA"
      },
      "outputs": [],
      "source": [
        "import requests\n",
        "from requests_html import HTMLSession"
      ]
    },
    {
      "cell_type": "code",
      "source": [
        "import json"
      ],
      "metadata": {
        "id": "VFx4fqKgZ6yQ"
      },
      "execution_count": 6,
      "outputs": []
    },
    {
      "cell_type": "code",
      "source": [
        "import pandas as pd"
      ],
      "metadata": {
        "id": "SvLkZbYbURTr"
      },
      "execution_count": 23,
      "outputs": []
    },
    {
      "cell_type": "code",
      "source": [
        "url = 'https://www.tradingview.com/markets/cryptocurrencies/ideas/'\n",
        "\n",
        "try:\n",
        "    session = HTMLSession()\n",
        "    response = session.get(url)\n",
        "     \n",
        "except requests.exceptions.RequestException as e:\n",
        "    print(e)"
      ],
      "metadata": {
        "id": "L_27Og9YSU23"
      },
      "execution_count": 7,
      "outputs": []
    },
    {
      "cell_type": "code",
      "source": [
        "widget_xpath = '//*[@id=\"js-category-content\"]/div/div/div/div/div/div/div[2]/div/div'\n",
        "tv_widgets = response.html.xpath(widget_xpath)"
      ],
      "metadata": {
        "id": "IqzyzeCpT9Ku"
      },
      "execution_count": 9,
      "outputs": []
    },
    {
      "cell_type": "code",
      "source": [
        "idea_item_sample = {\n",
        "    'symbol':'BTCUSDT',\n",
        "    'default_sentiment':'LONG',\n",
        "    'timeframe':'60',\n",
        "    'title':'BTC LOOKS BULLISH',\n",
        "    'link':'https://tgview.com/sdsfsdfsfsdf',\n",
        "    'timestamp':'date'\n",
        "}\n",
        "\n",
        "idea_items = []"
      ],
      "metadata": {
        "id": "c3s7otTfdlPo"
      },
      "execution_count": 29,
      "outputs": []
    },
    {
      "cell_type": "code",
      "source": [
        "# get page items and return idea_items\n",
        "def get_item(widget):\n",
        "  idea_item = {}\n",
        "\n",
        "  symbol_xpath = '//div[2]/div/a'\n",
        "  sentiment_xpath = '//span[3]/span[2]'\n",
        "  timeframe_xpath = '//div[2]/span[2]'\n",
        "  title_xpath = '//div[1]/a'\n",
        "  link_xpath = '//div[1]/a'\n",
        "  date_path = '//div[4]/span[3]/span/span'\n",
        "  BASE_TGVIEW_URL = 'https://www.tradingview.com'\n",
        "\n",
        "  try:\n",
        "    idea_item['symbol'] = widget.xpath(symbol_xpath)[0].text\n",
        "    \n",
        "  except:\n",
        "    print('Logging: some adds blocked')\n",
        "  else:\n",
        "    try:\n",
        "      idea_item['default_sentiment'] = widget.xpath(sentiment_xpath)[0].text\n",
        "    except:\n",
        "      idea_item['default_sentiment'] = ''\n",
        "    \n",
        "    idea_item['timeframe'] = widget.xpath(timeframe_xpath)[0].text\n",
        "    idea_item['title'] = widget.xpath(title_xpath)[0].text\n",
        "    idea_item['timestamp'] = widget.xpath(date_path)[0].attrs['data-timestamp']\n",
        "    \n",
        "    idea_item['link'] = BASE_TGVIEW_URL+widget.xpath(link_xpath)[0].attrs['href']\n",
        "\n",
        "    idea_items.append(idea_item)\n",
        "\n",
        "    print(f'{idea_item} added to items list')\n",
        "\n",
        "  \n",
        "  "
      ],
      "metadata": {
        "id": "FgEpDh_1eZuN"
      },
      "execution_count": 30,
      "outputs": []
    },
    {
      "cell_type": "code",
      "source": [
        "for widget in tv_widgets:\n",
        "  get_item(widget)"
      ],
      "metadata": {
        "colab": {
          "base_uri": "https://localhost:8080/"
        },
        "id": "o2x84uINi2Eg",
        "outputId": "cfb87b26-a817-470a-9a59-abb42c154def"
      },
      "execution_count": 31,
      "outputs": [
        {
          "output_type": "stream",
          "name": "stdout",
          "text": [
            "{'symbol': 'BTCUSDT', 'default_sentiment': '', 'timeframe': '1D', 'title': '💡 BTC/USDT', 'timestamp': '1645019529.0', 'link': 'https://www.tradingview.com/chart/BTCUSDT/AfPOhkxw-BTC-USDT/'} added to items list\n",
            "{'symbol': 'BTCUSDT', 'default_sentiment': '', 'timeframe': '60', 'title': 'BITCOIN - Update', 'timestamp': '1645025200.0', 'link': 'https://www.tradingview.com/chart/BTCUSDT/6wEWLyO4-BITCOIN-Update/'} added to items list\n",
            "{'symbol': 'SHIBUSDT', 'default_sentiment': 'Long', 'timeframe': '240', 'title': 'SHIBA can go to 4000 sat this week and give around 30% profit', 'timestamp': '1645008095.0', 'link': 'https://www.tradingview.com/chart/SHIBUSDT/TgNfRwRY-SHIBA-can-go-to-4000-sat-this-week-and-give-around-30-profit/'} added to items list\n",
            "Logging: some adds blocked\n",
            "{'symbol': 'BTCUSDT', 'default_sentiment': 'Long', 'timeframe': '60', 'title': 'BITCOIN IS STILL BULLISH AND CAN GO TO 45.000-47.000 VERY SOON', 'timestamp': '1645007292.0', 'link': 'https://www.tradingview.com/chart/BTCUSDT/NAz52nQ5-BITCOIN-IS-STILL-BULLISH-AND-CAN-GO-TO-45-000-47-000-VERY-SOON/'} added to items list\n",
            "{'symbol': 'BTCUSD', 'default_sentiment': '', 'timeframe': '1D', 'title': 'BTC Bitcoin: Predicting The Future', 'timestamp': '1645046536.0', 'link': 'https://www.tradingview.com/chart/BTCUSD/3ZvudNDw-BTC-Bitcoin-Predicting-The-Future/'} added to items list\n",
            "{'symbol': 'DOGEUSDT', 'default_sentiment': 'Long', 'timeframe': '720', 'title': 'DOGE near resistance line, ready to break it and go higher', 'timestamp': '1645008863.0', 'link': 'https://www.tradingview.com/chart/DOGEUSDT/gdCjUybb-DOGE-near-resistance-line-ready-to-break-it-and-go-higher/'} added to items list\n",
            "{'symbol': 'BTCUSD', 'default_sentiment': '', 'timeframe': '1D', 'title': 'BTCUSD next possible paths here', 'timestamp': '1644996593.0', 'link': 'https://www.tradingview.com/chart/BTCUSD/zdv85wEv-BTCUSD-next-possible-paths-here/'} added to items list\n",
            "{'symbol': 'ETHUSD', 'default_sentiment': 'Long', 'timeframe': '480', 'title': 'ETHUSD Will Move Higher! Buy!', 'timestamp': '1644998236.0', 'link': 'https://www.tradingview.com/chart/ETHUSD/evZ7gd8b-ETHUSD-Will-Move-Higher-Buy/'} added to items list\n",
            "{'symbol': 'BTCUSD', 'default_sentiment': '', 'timeframe': '30', 'title': 'How to Trade & Sell Options?', 'timestamp': '1645031720.0', 'link': 'https://www.tradingview.com/chart/BTCUSD/zIONkQ27-How-to-Trade-Sell-Options/'} added to items list\n",
            "{'symbol': 'LUNAUSD', 'default_sentiment': 'Long', 'timeframe': '60', 'title': 'LUNAUSD H1: 50% gains XABCD BEST LEVEL TO BUY(SL/TP)(NEW)', 'timestamp': '1644997703.0', 'link': 'https://www.tradingview.com/chart/LUNAUSD/fQrAKey7-LUNAUSD-H1-50-gains-XABCD-BEST-LEVEL-TO-BUY-SL-TP-NEW/'} added to items list\n",
            "{'symbol': 'BTCUSD', 'default_sentiment': '', 'timeframe': '240', 'title': 'How to build a Trading Strategy?', 'timestamp': '1645035095.0', 'link': 'https://www.tradingview.com/chart/BTCUSD/QDN6fA1Z-How-to-build-a-Trading-Strategy/'} added to items list\n",
            "{'symbol': 'VETUSDT', 'default_sentiment': '', 'timeframe': '1D', 'title': 'VECHAIN', 'timestamp': '1645021691.0', 'link': 'https://www.tradingview.com/chart/VETUSDT/r54xcJEV-VECHAIN/'} added to items list\n",
            "{'symbol': 'IOTAUSD', 'default_sentiment': 'Short', 'timeframe': '30', 'title': 'IOTAUSD ❕ soared to the resistance level', 'timestamp': '1645009740.0', 'link': 'https://www.tradingview.com/chart/IOTAUSD/YENgaDcH-IOTAUSD-soared-to-the-resistance-level/'} added to items list\n",
            "{'symbol': 'BTCUSDT', 'default_sentiment': 'Long', 'timeframe': '240', 'title': 'BTCUSDT: Range Breakout', 'timestamp': '1644987721.0', 'link': 'https://www.tradingview.com/chart/BTCUSDT/s72upM6o-BTCUSDT-Range-Breakout/'} added to items list\n",
            "{'symbol': 'ETHUSDT', 'default_sentiment': 'Long', 'timeframe': '1D', 'title': 'ETHUSDT Long', 'timestamp': '1645047918.0', 'link': 'https://www.tradingview.com/chart/ETHUSDT/32XAnbi0-ETHUSDT-Long/'} added to items list\n",
            "{'symbol': 'XRPUSDT', 'default_sentiment': '', 'timeframe': '240', 'title': '🔥 XRP Forming Bull-Flag: Bounce or Fall', 'timestamp': '1645031200.0', 'link': 'https://www.tradingview.com/chart/XRPUSDT/Be5Q8ZKv-XRP-Forming-Bull-Flag-Bounce-or-Fall/'} added to items list\n",
            "{'symbol': 'ETHUSD', 'default_sentiment': '', 'timeframe': '1D', 'title': 'ETH - Wait For The Break! Come On Bulls', 'timestamp': '1645007818.0', 'link': 'https://www.tradingview.com/chart/ETHUSD/Z52ab26z-ETH-Wait-For-The-Break-Come-On-Bulls/'} added to items list\n",
            "{'symbol': 'NEOUSDT', 'default_sentiment': '', 'timeframe': '1D', 'title': '🔥 NEO Bullish After Successful Re-test', 'timestamp': '1645025362.0', 'link': 'https://www.tradingview.com/chart/NEOUSDT/bTF98GK6-NEO-Bullish-After-Successful-Re-test/'} added to items list\n"
          ]
        }
      ]
    },
    {
      "cell_type": "code",
      "source": [
        "items_df = pd.DataFrame(idea_items)"
      ],
      "metadata": {
        "id": "zqIvcTTojGRB"
      },
      "execution_count": 32,
      "outputs": []
    },
    {
      "cell_type": "code",
      "source": [
        "items_df"
      ],
      "metadata": {
        "colab": {
          "base_uri": "https://localhost:8080/",
          "height": 614
        },
        "id": "7TjAIW8PYTPc",
        "outputId": "ae13d06c-6d27-4ad6-8bba-a889e4e05a94"
      },
      "execution_count": 33,
      "outputs": [
        {
          "output_type": "execute_result",
          "data": {
            "text/html": [
              "\n",
              "  <div id=\"df-171e4356-1de3-40fa-a255-f9fe4ecb30a7\">\n",
              "    <div class=\"colab-df-container\">\n",
              "      <div>\n",
              "<style scoped>\n",
              "    .dataframe tbody tr th:only-of-type {\n",
              "        vertical-align: middle;\n",
              "    }\n",
              "\n",
              "    .dataframe tbody tr th {\n",
              "        vertical-align: top;\n",
              "    }\n",
              "\n",
              "    .dataframe thead th {\n",
              "        text-align: right;\n",
              "    }\n",
              "</style>\n",
              "<table border=\"1\" class=\"dataframe\">\n",
              "  <thead>\n",
              "    <tr style=\"text-align: right;\">\n",
              "      <th></th>\n",
              "      <th>symbol</th>\n",
              "      <th>default_sentiment</th>\n",
              "      <th>timeframe</th>\n",
              "      <th>title</th>\n",
              "      <th>timestamp</th>\n",
              "      <th>link</th>\n",
              "    </tr>\n",
              "  </thead>\n",
              "  <tbody>\n",
              "    <tr>\n",
              "      <th>0</th>\n",
              "      <td>BTCUSDT</td>\n",
              "      <td></td>\n",
              "      <td>1D</td>\n",
              "      <td>💡 BTC/USDT</td>\n",
              "      <td>1645019529.0</td>\n",
              "      <td>https://www.tradingview.com/chart/BTCUSDT/AfPO...</td>\n",
              "    </tr>\n",
              "    <tr>\n",
              "      <th>1</th>\n",
              "      <td>BTCUSDT</td>\n",
              "      <td></td>\n",
              "      <td>60</td>\n",
              "      <td>BITCOIN - Update</td>\n",
              "      <td>1645025200.0</td>\n",
              "      <td>https://www.tradingview.com/chart/BTCUSDT/6wEW...</td>\n",
              "    </tr>\n",
              "    <tr>\n",
              "      <th>2</th>\n",
              "      <td>SHIBUSDT</td>\n",
              "      <td>Long</td>\n",
              "      <td>240</td>\n",
              "      <td>SHIBA can go to 4000 sat this week and give ar...</td>\n",
              "      <td>1645008095.0</td>\n",
              "      <td>https://www.tradingview.com/chart/SHIBUSDT/TgN...</td>\n",
              "    </tr>\n",
              "    <tr>\n",
              "      <th>3</th>\n",
              "      <td>BTCUSDT</td>\n",
              "      <td>Long</td>\n",
              "      <td>60</td>\n",
              "      <td>BITCOIN IS STILL BULLISH AND CAN GO TO 45.000-...</td>\n",
              "      <td>1645007292.0</td>\n",
              "      <td>https://www.tradingview.com/chart/BTCUSDT/NAz5...</td>\n",
              "    </tr>\n",
              "    <tr>\n",
              "      <th>4</th>\n",
              "      <td>BTCUSD</td>\n",
              "      <td></td>\n",
              "      <td>1D</td>\n",
              "      <td>BTC Bitcoin: Predicting The Future</td>\n",
              "      <td>1645046536.0</td>\n",
              "      <td>https://www.tradingview.com/chart/BTCUSD/3Zvud...</td>\n",
              "    </tr>\n",
              "    <tr>\n",
              "      <th>5</th>\n",
              "      <td>DOGEUSDT</td>\n",
              "      <td>Long</td>\n",
              "      <td>720</td>\n",
              "      <td>DOGE near resistance line, ready to break it a...</td>\n",
              "      <td>1645008863.0</td>\n",
              "      <td>https://www.tradingview.com/chart/DOGEUSDT/gdC...</td>\n",
              "    </tr>\n",
              "    <tr>\n",
              "      <th>6</th>\n",
              "      <td>BTCUSD</td>\n",
              "      <td></td>\n",
              "      <td>1D</td>\n",
              "      <td>BTCUSD next possible paths here</td>\n",
              "      <td>1644996593.0</td>\n",
              "      <td>https://www.tradingview.com/chart/BTCUSD/zdv85...</td>\n",
              "    </tr>\n",
              "    <tr>\n",
              "      <th>7</th>\n",
              "      <td>ETHUSD</td>\n",
              "      <td>Long</td>\n",
              "      <td>480</td>\n",
              "      <td>ETHUSD Will Move Higher! Buy!</td>\n",
              "      <td>1644998236.0</td>\n",
              "      <td>https://www.tradingview.com/chart/ETHUSD/evZ7g...</td>\n",
              "    </tr>\n",
              "    <tr>\n",
              "      <th>8</th>\n",
              "      <td>BTCUSD</td>\n",
              "      <td></td>\n",
              "      <td>30</td>\n",
              "      <td>How to Trade &amp; Sell Options?</td>\n",
              "      <td>1645031720.0</td>\n",
              "      <td>https://www.tradingview.com/chart/BTCUSD/zIONk...</td>\n",
              "    </tr>\n",
              "    <tr>\n",
              "      <th>9</th>\n",
              "      <td>LUNAUSD</td>\n",
              "      <td>Long</td>\n",
              "      <td>60</td>\n",
              "      <td>LUNAUSD H1: 50% gains XABCD BEST LEVEL TO BUY(...</td>\n",
              "      <td>1644997703.0</td>\n",
              "      <td>https://www.tradingview.com/chart/LUNAUSD/fQrA...</td>\n",
              "    </tr>\n",
              "    <tr>\n",
              "      <th>10</th>\n",
              "      <td>BTCUSD</td>\n",
              "      <td></td>\n",
              "      <td>240</td>\n",
              "      <td>How to build a Trading Strategy?</td>\n",
              "      <td>1645035095.0</td>\n",
              "      <td>https://www.tradingview.com/chart/BTCUSD/QDN6f...</td>\n",
              "    </tr>\n",
              "    <tr>\n",
              "      <th>11</th>\n",
              "      <td>VETUSDT</td>\n",
              "      <td></td>\n",
              "      <td>1D</td>\n",
              "      <td>VECHAIN</td>\n",
              "      <td>1645021691.0</td>\n",
              "      <td>https://www.tradingview.com/chart/VETUSDT/r54x...</td>\n",
              "    </tr>\n",
              "    <tr>\n",
              "      <th>12</th>\n",
              "      <td>IOTAUSD</td>\n",
              "      <td>Short</td>\n",
              "      <td>30</td>\n",
              "      <td>IOTAUSD ❕ soared to the resistance level</td>\n",
              "      <td>1645009740.0</td>\n",
              "      <td>https://www.tradingview.com/chart/IOTAUSD/YENg...</td>\n",
              "    </tr>\n",
              "    <tr>\n",
              "      <th>13</th>\n",
              "      <td>BTCUSDT</td>\n",
              "      <td>Long</td>\n",
              "      <td>240</td>\n",
              "      <td>BTCUSDT: Range Breakout</td>\n",
              "      <td>1644987721.0</td>\n",
              "      <td>https://www.tradingview.com/chart/BTCUSDT/s72u...</td>\n",
              "    </tr>\n",
              "    <tr>\n",
              "      <th>14</th>\n",
              "      <td>ETHUSDT</td>\n",
              "      <td>Long</td>\n",
              "      <td>1D</td>\n",
              "      <td>ETHUSDT Long</td>\n",
              "      <td>1645047918.0</td>\n",
              "      <td>https://www.tradingview.com/chart/ETHUSDT/32XA...</td>\n",
              "    </tr>\n",
              "    <tr>\n",
              "      <th>15</th>\n",
              "      <td>XRPUSDT</td>\n",
              "      <td></td>\n",
              "      <td>240</td>\n",
              "      <td>🔥 XRP Forming Bull-Flag: Bounce or Fall</td>\n",
              "      <td>1645031200.0</td>\n",
              "      <td>https://www.tradingview.com/chart/XRPUSDT/Be5Q...</td>\n",
              "    </tr>\n",
              "    <tr>\n",
              "      <th>16</th>\n",
              "      <td>ETHUSD</td>\n",
              "      <td></td>\n",
              "      <td>1D</td>\n",
              "      <td>ETH - Wait For The Break! Come On Bulls</td>\n",
              "      <td>1645007818.0</td>\n",
              "      <td>https://www.tradingview.com/chart/ETHUSD/Z52ab...</td>\n",
              "    </tr>\n",
              "    <tr>\n",
              "      <th>17</th>\n",
              "      <td>NEOUSDT</td>\n",
              "      <td></td>\n",
              "      <td>1D</td>\n",
              "      <td>🔥 NEO Bullish After Successful Re-test</td>\n",
              "      <td>1645025362.0</td>\n",
              "      <td>https://www.tradingview.com/chart/NEOUSDT/bTF9...</td>\n",
              "    </tr>\n",
              "  </tbody>\n",
              "</table>\n",
              "</div>\n",
              "      <button class=\"colab-df-convert\" onclick=\"convertToInteractive('df-171e4356-1de3-40fa-a255-f9fe4ecb30a7')\"\n",
              "              title=\"Convert this dataframe to an interactive table.\"\n",
              "              style=\"display:none;\">\n",
              "        \n",
              "  <svg xmlns=\"http://www.w3.org/2000/svg\" height=\"24px\"viewBox=\"0 0 24 24\"\n",
              "       width=\"24px\">\n",
              "    <path d=\"M0 0h24v24H0V0z\" fill=\"none\"/>\n",
              "    <path d=\"M18.56 5.44l.94 2.06.94-2.06 2.06-.94-2.06-.94-.94-2.06-.94 2.06-2.06.94zm-11 1L8.5 8.5l.94-2.06 2.06-.94-2.06-.94L8.5 2.5l-.94 2.06-2.06.94zm10 10l.94 2.06.94-2.06 2.06-.94-2.06-.94-.94-2.06-.94 2.06-2.06.94z\"/><path d=\"M17.41 7.96l-1.37-1.37c-.4-.4-.92-.59-1.43-.59-.52 0-1.04.2-1.43.59L10.3 9.45l-7.72 7.72c-.78.78-.78 2.05 0 2.83L4 21.41c.39.39.9.59 1.41.59.51 0 1.02-.2 1.41-.59l7.78-7.78 2.81-2.81c.8-.78.8-2.07 0-2.86zM5.41 20L4 18.59l7.72-7.72 1.47 1.35L5.41 20z\"/>\n",
              "  </svg>\n",
              "      </button>\n",
              "      \n",
              "  <style>\n",
              "    .colab-df-container {\n",
              "      display:flex;\n",
              "      flex-wrap:wrap;\n",
              "      gap: 12px;\n",
              "    }\n",
              "\n",
              "    .colab-df-convert {\n",
              "      background-color: #E8F0FE;\n",
              "      border: none;\n",
              "      border-radius: 50%;\n",
              "      cursor: pointer;\n",
              "      display: none;\n",
              "      fill: #1967D2;\n",
              "      height: 32px;\n",
              "      padding: 0 0 0 0;\n",
              "      width: 32px;\n",
              "    }\n",
              "\n",
              "    .colab-df-convert:hover {\n",
              "      background-color: #E2EBFA;\n",
              "      box-shadow: 0px 1px 2px rgba(60, 64, 67, 0.3), 0px 1px 3px 1px rgba(60, 64, 67, 0.15);\n",
              "      fill: #174EA6;\n",
              "    }\n",
              "\n",
              "    [theme=dark] .colab-df-convert {\n",
              "      background-color: #3B4455;\n",
              "      fill: #D2E3FC;\n",
              "    }\n",
              "\n",
              "    [theme=dark] .colab-df-convert:hover {\n",
              "      background-color: #434B5C;\n",
              "      box-shadow: 0px 1px 3px 1px rgba(0, 0, 0, 0.15);\n",
              "      filter: drop-shadow(0px 1px 2px rgba(0, 0, 0, 0.3));\n",
              "      fill: #FFFFFF;\n",
              "    }\n",
              "  </style>\n",
              "\n",
              "      <script>\n",
              "        const buttonEl =\n",
              "          document.querySelector('#df-171e4356-1de3-40fa-a255-f9fe4ecb30a7 button.colab-df-convert');\n",
              "        buttonEl.style.display =\n",
              "          google.colab.kernel.accessAllowed ? 'block' : 'none';\n",
              "\n",
              "        async function convertToInteractive(key) {\n",
              "          const element = document.querySelector('#df-171e4356-1de3-40fa-a255-f9fe4ecb30a7');\n",
              "          const dataTable =\n",
              "            await google.colab.kernel.invokeFunction('convertToInteractive',\n",
              "                                                     [key], {});\n",
              "          if (!dataTable) return;\n",
              "\n",
              "          const docLinkHtml = 'Like what you see? Visit the ' +\n",
              "            '<a target=\"_blank\" href=https://colab.research.google.com/notebooks/data_table.ipynb>data table notebook</a>'\n",
              "            + ' to learn more about interactive tables.';\n",
              "          element.innerHTML = '';\n",
              "          dataTable['output_type'] = 'display_data';\n",
              "          await google.colab.output.renderOutput(dataTable, element);\n",
              "          const docLink = document.createElement('div');\n",
              "          docLink.innerHTML = docLinkHtml;\n",
              "          element.appendChild(docLink);\n",
              "        }\n",
              "      </script>\n",
              "    </div>\n",
              "  </div>\n",
              "  "
            ],
            "text/plain": [
              "      symbol  ...                                               link\n",
              "0    BTCUSDT  ...  https://www.tradingview.com/chart/BTCUSDT/AfPO...\n",
              "1    BTCUSDT  ...  https://www.tradingview.com/chart/BTCUSDT/6wEW...\n",
              "2   SHIBUSDT  ...  https://www.tradingview.com/chart/SHIBUSDT/TgN...\n",
              "3    BTCUSDT  ...  https://www.tradingview.com/chart/BTCUSDT/NAz5...\n",
              "4     BTCUSD  ...  https://www.tradingview.com/chart/BTCUSD/3Zvud...\n",
              "5   DOGEUSDT  ...  https://www.tradingview.com/chart/DOGEUSDT/gdC...\n",
              "6     BTCUSD  ...  https://www.tradingview.com/chart/BTCUSD/zdv85...\n",
              "7     ETHUSD  ...  https://www.tradingview.com/chart/ETHUSD/evZ7g...\n",
              "8     BTCUSD  ...  https://www.tradingview.com/chart/BTCUSD/zIONk...\n",
              "9    LUNAUSD  ...  https://www.tradingview.com/chart/LUNAUSD/fQrA...\n",
              "10    BTCUSD  ...  https://www.tradingview.com/chart/BTCUSD/QDN6f...\n",
              "11   VETUSDT  ...  https://www.tradingview.com/chart/VETUSDT/r54x...\n",
              "12   IOTAUSD  ...  https://www.tradingview.com/chart/IOTAUSD/YENg...\n",
              "13   BTCUSDT  ...  https://www.tradingview.com/chart/BTCUSDT/s72u...\n",
              "14   ETHUSDT  ...  https://www.tradingview.com/chart/ETHUSDT/32XA...\n",
              "15   XRPUSDT  ...  https://www.tradingview.com/chart/XRPUSDT/Be5Q...\n",
              "16    ETHUSD  ...  https://www.tradingview.com/chart/ETHUSD/Z52ab...\n",
              "17   NEOUSDT  ...  https://www.tradingview.com/chart/NEOUSDT/bTF9...\n",
              "\n",
              "[18 rows x 6 columns]"
            ]
          },
          "metadata": {},
          "execution_count": 33
        }
      ]
    },
    {
      "cell_type": "code",
      "source": [
        ""
      ],
      "metadata": {
        "id": "yFyGCJH7bq-1"
      },
      "execution_count": null,
      "outputs": []
    }
  ]
}